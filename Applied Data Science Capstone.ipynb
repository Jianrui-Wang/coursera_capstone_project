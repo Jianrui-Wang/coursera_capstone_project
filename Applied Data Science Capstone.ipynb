{
    "cells": [
        {
            "metadata": {
                "collapsed": true
            },
            "cell_type": "markdown",
            "source": "## Segmenting and Clustering Neighborhoods in Fredericton, NB"
        },
        {
            "metadata": {},
            "cell_type": "markdown",
            "source": "## Introduction to the opportunity\nFredericton is the Capital City of the only Canadian fully-bilingual Province of New Brunswick and is beautifully located on the banks of the Saint John River. While one of the least populated provincial capital cities with a population base of less than 60 thousand residents, it offers a wide spectrum of venues and is a governement, university and cultural hub.\n\nAs the city grows and develops, it becomes increasingly important to examine and understand it quantitiatively. The City of Fredericton provides open data for everyone and encourages entrepreneurial use to develop services for the benefit of its ciitzens.\n\nDevelopers, investors, policy makers and/or city planners have an interest in answering the following questions as the need for additional services and citizen protection:\n\n1. What neighbourhoods have the highest crime?\n2. Is population density correlated to crime level?\n3. Using Foursquare data, what venues are most common in different locations within the city?\n4. Does the Knowledge Park really need a coffee shop?\n\nDoes the Open Data project have specific enough or thick enough data to empower decisions to be made or is it too aggregate to provide value in its current detail? Let's find out."
        },
        {
            "metadata": {},
            "cell_type": "code",
            "source": "from IPython.display import Image\nfrom IPython.core.display import HTML \nImage(url= \"http://www.tourismfredericton.ca/sites/default/files/field/image/fredericton.jpg\")",
            "execution_count": 1,
            "outputs": [
                {
                    "output_type": "execute_result",
                    "execution_count": 1,
                    "data": {
                        "text/html": "<img src=\"http://www.tourismfredericton.ca/sites/default/files/field/image/fredericton.jpg\"/>",
                        "text/plain": "<IPython.core.display.Image object>"
                    },
                    "metadata": {}
                }
            ]
        },
        {
            "metadata": {},
            "cell_type": "markdown",
            "source": "## Data\nTo understand and explore we will need the following City of Fredericton Open Data:\n\n1. Open Data Site: http://data-fredericton.opendata.arcgis.com/\n2. Fredericton Neighbourhoods: http://data-fredericton.opendata.arcgis.com/datasets/neighbourhoods--quartiers\n3. Fredericton Crime by Neighbourhood: http://data-fredericton.opendata.arcgis.com/datasets/crime-by-neighbourhood-2017--crime-par-quartier-2017\n4. Fredericton Census Tract Demographics: http://data-fredericton.opendata.arcgis.com/datasets/census-tract-demographics--donn%C3%A9es-d%C3%A9mographiques-du-secteur-de-recensement\n5. Fredericton locations of interest: https://github.com/JasonLUrquhart/Applied-Data-Science-Capstone/blob/master/Fredericton%20Locations.xlsx\n6. Foursquare Developers Access to venue data: https://foursquare.com/\nUsing this data will allow exploration and examination to answer the questions. The neighbourhood data will enable us to properly group crime by neighbourhood. The Census data will enable us to then compare the population density to examine if areas of highest crime are also most densely populated. Fredericton locations of interest will then allow us to cluster and quantitatively understand the venues most common to that location.\n\n## Methodology\nAll steps are referenced beleow in the Appendix: Analysis section.\n\nThe methodology will include:\n\n1. Loading each data set\n2. Examine the crime frequency by neighbourhood\n3. Study the crime types and then pivot analysis of crime type frequency by neighbourhood\n4. Understand correlation between crimes and population density\n5. Perform k-means statisical analysis on venues by locations of interest based on findings from crimes and neighbourhood\n6. Determine which venues are most common statistically in the region of greatest crime count then in all other locations of interest.\n7. Determine if an area, such as the Knowledge Park needs a coffee shop.\n\n## Loading the data\nAfter loading the applicable libraries, the referenced geojson neighbourhood data was loaded from the City of Fredericton Open Data site. This dataset uses block polygon shape coordinates which are better for visualization and comparison. The City also uses Ward data but the Neighbourhood location data is more accurate and includes more details. The same type of dataset was then loaded for the population density from the Stats Canada Census tracts.\n\nThe third dataset, an excel file, \"Crime by Neighbourhood 2017\" downloaded from the City of Fredericton Open Data site is found under the Public Safety domain. This dataset was then uploaded for the analysis. It's interesting to note the details of this dataset are aggregated by neighbourhood. It is not an exhaustive set by not including all crimes (violent offenses) nor specific location data of the crime but is referenced by neighbourhood.\n\nThis means we can gain an understanding of the crime volume by type by area but not specific enough to understand the distribution properties. Valuable questions such as, \"are these crimes occuring more often in a specific area and at a certain time by a specific demographic of people?\" cannot be answered nor explored due to what is reasonably assumed to be personal and private information with associated legal risks.\n\nThere is value to the city to explore the detailed crime data using data science to predict frequency, location, timing and conditions to best allocated resources for the benefit of its citizens and it's police force. However, human behaviour is complex requiring thick profile data by individual and the conditions surrounding the event(s). To be sufficient for reliable future prediction it would need to demonstrate validity, currency, reliability and sufficiency.\n\n## Exploring the data\nExploring the count of crimes by neighbourhood gives us the first glimpse into the distribution.\n\nOne note is the possibility neighbourhoods names could change at different times. The crime dataset did not mention which specific neighbourhood naming dataset it was using but we assumed the neighbourhood data provided aligned with the neighbourhoods used in the crime data. It may be beneficial for the City to note and timestamp neighbourhood naming in the future or simply reference with neighbourhood naming file it used for the crime dataset.\n\nAn example of data errors: There was an error found in the naming of the neighbourhood \"Platt\". The neighbourhood data stated \"Plat\" while the crime data stated \"Platt\". Given the crime dataset was most simple to manipulate it was modified to \"Plat\". The true name of the neighbourhood is \"Platt\".\n\n### First Visualization of Crime\nOnce the data was prepared, a choropleth map was created to view the crime count by neighbourhood. As expected the region of greatest crime count was found in the downtown and Platt neighbourhoods.\n\nExamining the crime types enables us to learn the most frequent occuring crimes which we then plot as a bar chart to see most frequenty type.\n\nTheft from motor vehicles is most prevalent in the same area as the most frequent crimes. It's interesting to note this area is mostly residential and most do not have garages. It would be interesting to further examine if surveillance is a deterant for motor vehicle crimes in the downtown core compared to low surveillance in the Platt neighbourhood.\n\n### Examining 2nd most common crime given it is specific: theft from vehicles\nAfter exploring the pivot table showing Crime_Type by Neighbourhood, we drill into a specific type of crime, theft from vehicles and plot the choropleth map to see which area has the greatest frequency.\n\nAgain, the Platt neighbourhood appears as the most frequent.\n\nIs this due to population density?\n\n### Introducing the Census data to explore the correlation between crime frequency and population density.\nVisualising the population density enables us to determine that the Platt neighbourhood has lower correlation to crime frequency than I would have expected.\n\nIt would be interesting to further study the Census data and if this captures the population that is renting or more temporary/transient poplution, given the City is a University hub.\n\n## Look at specific locations to understand the connection to venues using Foursquare data\nLoading the \"Fredericton Locations\" data enables us to perform a statistical analysis on the most common venues by location.\n\nWe might wonder if the prevalence of bars and clubs in the downtown region has something to do with the higher crime rate in the near Platt region.\n\nPlotting the latitude and longitude coordinates of the locations of interest onto the crime choropleth map enables us to now study the most common venues by using the Foursquare data.\n\n#### Analysing each Location\nGrouping rows by location and the mean of the frequency of occurance of each category we venue categories we study the top five most common venues.\n\nPutting this data into a pandas dataframe we can then determine the most common venues by location and plot onto a map.\n\n## Results\nThe analysis enabled us to discover and describe visually and quantitatively:\n\nNeighbourhoods in Fredericton\n\nCrime freqency by neighbourhood\n\nCrime type frequency and statistics. The mean crime count in the City of Fredericton is 22.\n\nCrime type count by neighbourhood.\nTheft from motor vehicles is most prevalent in the same area as the most frequent crimes. It's interesting to note this area is mostly residential and most do not have garages. It would be interesting to further examine if surveillance is a deterant for motor vehicle crimes in the downtown core compared to low surveillance in the Platt neighbourhood."
        },
        {
            "metadata": {},
            "cell_type": "code",
            "source": "import numpy as np \n\nimport pandas as pd \npd.set_option('display.max_columns', None)\npd.set_option('display.max_rows', None)\n\nimport json \n\n!conda install -c conda-forge geopy --yes \nfrom geopy.geocoders import Nominatim \n\nimport requests \nfrom pandas.io.json import json_normalize \n\n\nimport matplotlib.cm as cm\nimport matplotlib.colors as colors\n\n\nfrom sklearn.cluster import KMeans\n\n\nfrom bs4 import BeautifulSoup\n\nimport xml\n\n!conda install -c conda-forge folium=0.5.0 --yes \nimport folium \n\nprint('Libraries imported.')",
            "execution_count": null,
            "outputs": []
        },
        {
            "metadata": {},
            "cell_type": "code",
            "source": "r = requests.get('https://opendata.arcgis.com/datasets/823d86e17a6d47808c6e4f1c2dd97928_0.geojson')\nfredericton_geo = r.json()",
            "execution_count": null,
            "outputs": []
        },
        {
            "metadata": {},
            "cell_type": "code",
            "source": "neighborhoods_data = fredericton_geo['features']",
            "execution_count": null,
            "outputs": []
        },
        {
            "metadata": {},
            "cell_type": "code",
            "source": "neighborhoods_data[0]",
            "execution_count": null,
            "outputs": []
        },
        {
            "metadata": {},
            "cell_type": "code",
            "source": "g = requests.get('https://opendata.arcgis.com/datasets/6179d35eacb144a5b5fdcc869f86dfb5_0.geojson')\ndemog_geo = g.json()",
            "execution_count": null,
            "outputs": []
        },
        {
            "metadata": {},
            "cell_type": "code",
            "source": "",
            "execution_count": null,
            "outputs": []
        }
    ],
    "metadata": {
        "kernelspec": {
            "name": "python3",
            "display_name": "Python 3.6",
            "language": "python"
        },
        "language_info": {
            "name": "python",
            "version": "3.6.9",
            "mimetype": "text/x-python",
            "codemirror_mode": {
                "name": "ipython",
                "version": 3
            },
            "pygments_lexer": "ipython3",
            "nbconvert_exporter": "python",
            "file_extension": ".py"
        }
    },
    "nbformat": 4,
    "nbformat_minor": 1
}